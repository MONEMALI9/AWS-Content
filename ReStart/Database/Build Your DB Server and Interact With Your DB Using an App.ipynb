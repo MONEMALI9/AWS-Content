{
 "cells": [
  {
   "cell_type": "markdown",
   "metadata": {},
   "source": [
    "# Build Your DB Server and Interact With Your DB Using an App"
   ]
  },
  {
   "cell_type": "markdown",
   "metadata": {},
   "source": [
    "This lab is designed to reinforce the concept of leveraging an AWS-managed database instance for solving relational database needs.\n",
    "\n",
    "### Amazon Relational Database Service \n",
    "(Amazon RDS) makes it easy to set up, operate, and scale a relational database in the cloud.<br> It provides cost-efficient and resizable capacity while managing time-consuming database administration tasks,<br> which allows you to focus on your applications and business.<br> Amazon RDS provides you with six familiar database engines to choose from:<br> Amazon Aurora, Oracle, Microsoft SQL Server, PostgreSQL, MySQL and MariaDB.\n",
    "\n",
    "### Objectives\n",
    "\n",
    "After completing this lab, you can:<br>\n",
    "1. Launch an Amazon RDS DB instance with high availability.\n",
    "2. Configure the DB instance to permit connections from your web server.\n",
    "3. Open a web application and interact with your database.\n",
    "\n",
    "### Duration\n",
    "This lab takes approximately 45 minutes."
   ]
  },
  {
   "cell_type": "markdown",
   "metadata": {},
   "source": [
    "### Scenario\n",
    "You start with the following infrastructure:<br>\n",
    "<img src=\"img/architecture-lab1.png\" style=\"height:400px\">"
   ]
  },
  {
   "cell_type": "markdown",
   "metadata": {},
   "source": [
    "At the end of the lab, this is the infrastructure:<br>\n",
    "<img src=\"img/architecture-lab2.png\" style=\"height:400px\">"
   ]
  },
  {
   "cell_type": "markdown",
   "metadata": {},
   "source": []
  },
  {
   "cell_type": "markdown",
   "metadata": {},
   "source": [
    "## Task 1: Create a Security Group for the RDS DB Instance\n",
    "In this task, you will create a security group to allow your web server to access your RDS DB instance. The security group will be used when you launch the database instance.\n",
    "\n",
    "5. In the AWS Management Console, select the  Services menu, and then select VPC under Networking & Content Delivery.\n",
    "6. In the left navigation pane, click Security Groups.\n",
    "7. Click Create security group and then configure:\n",
    "\n",
    ">>Security group name: DB Security Group<br>\n",
    ">>Description: Permit access from Web Security Group<br>\n",
    ">>VPC: Lab VPC<br>\n",
    "\n",
    "You will now add a rule to the security group to permit inbound database requests. The security group currently has no rules. You will add a rule to permit access from the Web Security Group.\n",
    "\n",
    "8. In the Inbound rules section, click Add rule, then configure:\n",
    "\n",
    "Type: MySQL/Aurora (3306)\n",
    "CIDR, IP, Security Group or Prefix List: Type sg and then select Web Security Group.\n",
    "This configures the Database security group to permit inbound traffic on port 3306 from any EC2 instance that is associated with the Web Security Group.\n",
    "\n",
    "9. Scroll to the bottom of the screen, then click Create security group\n",
    "\n",
    "You will use this security group when launching the Amazon RDS database."
   ]
  },
  {
   "cell_type": "markdown",
   "metadata": {},
   "source": [
    "## Task 2: Create a DB Subnet Group\n",
    "In this task, you will create a DB subnet group that is used to tell RDS which subnets can be used for the database. Each DB subnet group requires subnets in at least two Availability Zones.\n",
    "\n",
    "10. In the AWS Management Console, select the  Services menu, and then select RDS under Database.\n",
    "11. In the left navigation pane, click Subnet groups.\n",
    "\n",
    " If the navigation pane is not visible, click the  menu icon in the top-left corner.\n",
    "\n",
    "12. Click Create DB Subnet Group then configure:\n",
    ">>Name: DB Subnet Group<br>\n",
    "Description: DB Subnet Group<br>\n",
    "VPC ID: Lab VPC<br>\n",
    "\n",
    "13. In the Add subnets section for Availability zones, click the , then:\n",
    ">>Select  the first Availability zone<br>\n",
    "Select  the second Availability zone<br>\n",
    "\n",
    "For Subnets, click the , then:\n",
    "\n",
    "For the first Availability zone, select  10.0.1.0/24\n",
    "For the second Availability zone, select  10.0.3.0/24\n",
    "Click Create\n",
    "\n",
    "This adds Private Subnet 1 (10.0.1.0/24) and Private Subnet 2 (10.0.3.0/24). You will use this DB subnet group when creating the database in the next task."
   ]
  },
  {
   "cell_type": "markdown",
   "metadata": {},
   "source": []
  },
  {
   "cell_type": "markdown",
   "metadata": {},
   "source": []
  },
  {
   "cell_type": "markdown",
   "metadata": {},
   "source": []
  },
  {
   "cell_type": "markdown",
   "metadata": {},
   "source": []
  }
 ],
 "metadata": {
  "kernelspec": {
   "display_name": "Python 3",
   "language": "python",
   "name": "python3"
  },
  "language_info": {
   "name": "python",
   "version": "3.7.8"
  },
  "orig_nbformat": 4
 },
 "nbformat": 4,
 "nbformat_minor": 2
}
