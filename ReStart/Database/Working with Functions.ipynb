{
 "cells": [
  {
   "cell_type": "markdown",
   "metadata": {},
   "source": [
    "# Working with Functions"
   ]
  },
  {
   "cell_type": "markdown",
   "metadata": {},
   "source": [
    "## Scenario\n",
    "The database operations team has created a relational database named world containing three tables:<br> city, country, and countrylanguage.<br> Based on specific use cases in the lab exercise,<br> you write a few queries using database functions with the SELECT statement and WHERE clause."
   ]
  },
  {
   "cell_type": "markdown",
   "metadata": {},
   "source": [
    "## Lab overview and objectives\n",
    "This lab demonstrates how to use some common database functions with the SELECT statement and WHERE clause.<br>\n",
    "\n",
    "After completing this lab, you should be able to:<br>\n",
    "\n",
    "1. Use aggregate functions SUM(), MIN(), MAX(), and AVG() to summarize data\n",
    "2. Use the SUBSTRING_INDEX() function to split strings\n",
    "3. Use the LENGTH() and TRIM() functions to determine the length of a string\n",
    "4. Use the DISTINCT() function to filter duplicate records\n",
    "5. Use functions in the SELECT statement and WHERE clause"
   ]
  },
  {
   "cell_type": "markdown",
   "metadata": {},
   "source": [
    "When you start the lab, the following resources are already created for you:<br>\n",
    "<img src=\"img/architecture-start (4).jpg\" style=\"height:400px\"><br>\n",
    "A Command Host instance and world database containing three tables"
   ]
  },
  {
   "cell_type": "markdown",
   "metadata": {},
   "source": [
    "At the end of this lab, you would have used the SELECT statement and WHERE clause with some common database functions:\n",
    "<img src=\"img/architecture-end (4).jpg\" style=\"height:400px\"><br>\n",
    "A lab user is connected to a database instance. It also displays some commonly used SQL database functions."
   ]
  },
  {
   "cell_type": "markdown",
   "metadata": {},
   "source": [
    "## Task 2: Query the world database\n",
    "In this task, you query the world database using various SELECT statements and database functions.<br> You use a function to process and manipulate data in a query.<br> There are a wide range of SQL functions, and this lab reviews a subset of commonly used functions."
   ]
  },
  {
   "cell_type": "markdown",
   "metadata": {},
   "source": [
    "12. To show the existing databases, enter the following command in the terminal.<br>\n",
    ">>SHOW DATABASES;\n",
    "    \n",
    "Verify that a database named world is available. If the world database is not available, contact your instructor."
   ]
  },
  {
   "cell_type": "markdown",
   "metadata": {},
   "source": [
    "13. To review the table schema, data, and number of rows in the country table, run the following query.\n",
    ">>SELECT * FROM world.country;"
   ]
  },
  {
   "cell_type": "markdown",
   "metadata": {},
   "source": [
    "14. The following query demonstrates how to use aggregate functions SUM(), MIN(), MAX(), and AVG() to summarize data.<br> Because the query does not include a WHERE condition,<br> the functions aggregate data from all records in the country table. Run the following query.<br>\n",
    "\n",
    ">>SELECT sum(Population), avg(Population), max(Population), min(Population), count(Population)<br>\n",
    ">>FROM world.country;\n",
    "\n",
    "1. SUM() adds all the population values together.\n",
    "2. AVG() generates an average across all the population values.\n",
    "3. MAX() finds the row with the highest population value.\n",
    "4. MIN() finds the row with the lowest population value.\n",
    "5. COUNT() finds the number of rows with a population value."
   ]
  },
  {
   "cell_type": "markdown",
   "metadata": {},
   "source": [
    "15. In some cases, you might need to split a string.<br> The following query uses SUBSTRING_FUNCTION() to spilt a string where a space occurs. Run the following query.\n",
    ">>SELECT Region, substring_index(Region, \" \", 1)<br>\n",
    ">>FROM world.country;\n",
    "\n",
    "After you run the query, you notice that the second column includes the beginning of each region name. "
   ]
  },
  {
   "cell_type": "markdown",
   "metadata": {},
   "source": [
    "16. Sometimes you may need to search rows using a string fragment.<br> The following query includes SUBSTRING_FUNCTION() as part of a condition in the WHERE clause to filter records that include Southern in the first part of the region name. Run the following query.<br>\n",
    "\n",
    ">>SELECT Name, Region<br> \n",
    ">>from world.country<br>\n",
    ">>WHERE substring_index(Region, \" \", 1) = \"Southern\";"
   ]
  },
  {
   "cell_type": "markdown",
   "metadata": {},
   "source": [
    "You can use the LENGTH() and TRIM() functions to determine how many characters are in a string.<br> TRIM() clears leading and trailing blank spaces, and the LENGTH() function returns a count of the remaining characters.<br> The next example returns only regions that have fewer than 10 characters in their names. Run the following query.\n",
    "\n",
    ">>SELECT Region<br> \n",
    ">>FROM world.country<br> \n",
    ">>WHERE LENGTH(TRIM(Region)) < 10;"
   ]
  },
  {
   "cell_type": "markdown",
   "metadata": {},
   "source": [
    "18. You might have noticed duplicate records in the previous example.<br> You can use the DISTINCT() function to filter the duplicates. Run the following query.\n",
    "\n",
    ">>SELECT DISTINCT(Region) <br>\n",
    ">>FROM world.country <br>\n",
    ">>WHERE LENGTH(TRIM(Region)) < 10;"
   ]
  },
  {
   "cell_type": "markdown",
   "metadata": {},
   "source": [
    "## Challenge\n",
    "Query the country table to return a set of records based on the following requirement.<br>\n",
    "\n",
    "Write a query to return rows that have Micronesian/Caribbean as the name in the region column.<br> The output should split the region as Micronesia and Caribbean into two separate columns:<br> one named Region Name 1 and one named Region Name 2.\n",
    "\n",
    ">>SELECT Name, substring_index(Region, \"/\", 1) as \"Region Name 1\",substring_index(region, \"/\", -1) as \"Region Name 2\"<br> FROM world.country<br> \n",
    ">>WHERE Region = \"Micronesia/Caribbean\";"
   ]
  },
  {
   "cell_type": "markdown",
   "metadata": {},
   "source": [
    "## Conclusion\n",
    "Congratulations! You have now successfully:<br>\n",
    "\n",
    "1. Used aggregate functions SUM(), MIN(), MAX(), and AVG() to summarize data\n",
    "2. Used the SUBSTRING_INDEX() function to split strings\n",
    "3. Used the LENGTH() and TRIM() functions to determine the length of a string\n",
    "4. Used the DISTINCT() function to filter duplicate records\n",
    "5. Used functions in the SELECT statement and WHERE clause"
   ]
  },
  {
   "cell_type": "markdown",
   "metadata": {},
   "source": []
  },
  {
   "cell_type": "markdown",
   "metadata": {},
   "source": []
  }
 ],
 "metadata": {
  "kernelspec": {
   "display_name": "Python 3",
   "language": "python",
   "name": "python3"
  },
  "language_info": {
   "name": "python",
   "version": "3.7.8"
  },
  "orig_nbformat": 4
 },
 "nbformat": 4,
 "nbformat_minor": 2
}
