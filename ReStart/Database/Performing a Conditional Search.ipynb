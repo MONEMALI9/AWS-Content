{
 "cells": [
  {
   "cell_type": "markdown",
   "metadata": {},
   "source": [
    "# Performing a Conditional Search"
   ]
  },
  {
   "cell_type": "markdown",
   "metadata": {},
   "source": [
    "## Scenario\n",
    "The database operations team has created a relational database named world containing three tables:<br> city, country, and countrylanguage.<br> To help the team, you will write a few queries to search for records in the country table by using the SELECT statement and a WHERE clause."
   ]
  },
  {
   "cell_type": "markdown",
   "metadata": {},
   "source": [
    "## Lab overview and objectives\n",
    "This lab demonstrates how to use the SELECT statement and a WHERE clause to filter records with a conditional search.<br>\n",
    "\n",
    "After completing this lab, you should be able to:<br>\n",
    "\n",
    "1. Write a search condition by using the WHERE clause\n",
    "2. Use the BETWEEN operator\n",
    "3. Use the LIKE operator with wildcard characters\n",
    "4. Use the AS operator to create a column alias\n",
    "5. Use functions in a SELECT statement\n",
    "6. Use functions in a WHERE clause"
   ]
  },
  {
   "cell_type": "markdown",
   "metadata": {},
   "source": [
    "When you start the lab, the following resources are already created for you:\n",
    "<img src = \"img/architecture-start (3).jpg\" style=\"height : 400px\"><br>\n",
    "The Command Host instance has a DB client installed.<br> You will use the Command Host to query the world database, which contains three tables."
   ]
  },
  {
   "cell_type": "markdown",
   "metadata": {},
   "source": [
    "At the end of this lab, you will have learned how to use the WHERE clause, BETWEEN operator, and LIKE function to filter records:<br>\n",
    "<img src = \"img/architecture-end (3).jpg\" style = \"height:400px\" ><br>\n",
    "A lab user connects to a Command Host instance to query the tables in the world database.<br>"
   ]
  },
  {
   "cell_type": "markdown",
   "metadata": {},
   "source": [
    "## Task 2: Query the world database\n",
    "In this task, you will query the world database by using various SELECT statements and database functions.<br>"
   ]
  },
  {
   "cell_type": "markdown",
   "metadata": {},
   "source": [
    "12. To show the existing databases, run the following query. \n",
    ">>SHOW DATABASES;\n",
    "\n",
    "Verify that a database named world is available. If the world database is not available, then contact your instructor."
   ]
  },
  {
   "cell_type": "markdown",
   "metadata": {},
   "source": [
    "13. To review the table schema, data, and number of rows in the country table, run the following query.\n",
    ">>SELECT * FROM world.country;\n",
    "\n",
    "By reducing the number of records, the result set would be smaller and easier to work with.<br> To limit the number of records returned, you can use a WHERE clause to define the conditions that records must match.<br>\n",
    "\n",
    "Use the AND operator to combine two conditions.<br> Each record is checked against both conditions before it's included in the result set.<br> You can use the > operator and = operator to query values that are greater than or equal to a certain value.<br> Similarly, you can combine the < operator and = operator to query values that are less than or equal to a certain value.<br>"
   ]
  },
  {
   "cell_type": "markdown",
   "metadata": {},
   "source": [
    "14. To reduce the number of records in the result set by using a WHERE clause and the AND operator, run the following query.\n",
    ">>SELECT Name, Capital, Region, SurfaceArea, Population<br>\n",
    "    >>FROM world.country <br>\n",
    "    >>WHERE Population >= 50000000 AND Population <= 100000000;<br>\n",
    "\n",
    "When searching for records by using a range condition,<br> you can use the BETWEEN operator instead of the >= operator and <= operator.<br> By using the BETWEEN operator, the query is easier to read.<br> Note that the operator is inclusive, meaning that the beginning and ending values are included."
   ]
  },
  {
   "cell_type": "markdown",
   "metadata": {},
   "source": [
    "15. To return the same records as the previous result set by using the BETWEEN operator, run the following query.\n",
    "\n",
    ">>SELECT Name, Capital, Region, SurfaceArea, Population<br>\n",
    "    >>FROM world.country <br>\n",
    "    >>WHERE Population BETWEEN 50000000 AND 100000000;<br>\n",
    "\n",
    "You can use the LIKE function to search for a string pattern.<br> The following query will return records that include the string Europe in the Region column.<br> The percent symbol (%) is a wildcard character that represents any number of characters before or after the word Europe.<br> The query will aggregate the population of all European countries by using the SUM function."
   ]
  },
  {
   "cell_type": "markdown",
   "metadata": {},
   "source": [
    "16. To return the population of all European countries by using the LIKE function and SUM function, run the following query.\n",
    ">>SELECT sum(Population) <br>\n",
    ">>from world.country <br>\n",
    ">>WHERE Region LIKE \"%Europe%\";<br>\n",
    "\n",
    "In the previous query, the SELECT clause included a SUM function.<br> In the following query, the SUM function is still used to calculate the total population of Europe.<br> The query also includes a column alias, which makes the output easier to read.<br> To define the column alias, the AS command is used in the SELECT statement."
   ]
  },
  {
   "cell_type": "markdown",
   "metadata": {},
   "source": [
    "17. To return the same information as the previous query with the column alias, run the following query.\n",
    ">>SELECT sum(population) as \"Europe Population Total\"<br> \n",
    ">>from world.country <br>\n",
    ">>WHERE region LIKE \"%Europe%\";\n",
    "\n",
    "Note that SQL is not a case-sensitive language.<br> You can use either SELECT or select when writing a query.<br> However, databases that you query might be configured with a case-sensitive collation.<br> If the database was case sensitive, you would not be able to query a column named Population by using the following:<br> select population from world.country"
   ]
  },
  {
   "cell_type": "markdown",
   "metadata": {},
   "source": [
    "18. To perform a case-sensitive search by using the LOWER function, run the following query.\n",
    "\n",
    ">>SELECT Name, Capital, Region, SurfaceArea, Population<br>\n",
    ">>from world.country<br> \n",
    ">>WHERE LOWER(Region) LIKE \"%central%\";"
   ]
  },
  {
   "cell_type": "markdown",
   "metadata": {},
   "source": [
    "## Challenge\n",
    "Write a query to return the sum of the surface area and sum of the population of North America.<br>\n",
    "\n",
    "Query the table first to determine which columns and operators to use.<br>\n",
    ">>SELECT SUM(SurfaceArea) as \"N. America Surface Area\", SUM(Population) as \"N. America Population\" <br>\n",
    ">>FROM world.country <br>\n",
    ">>WHERE Region = \"North America\";<br>"
   ]
  },
  {
   "cell_type": "markdown",
   "metadata": {},
   "source": []
  },
  {
   "cell_type": "markdown",
   "metadata": {},
   "source": []
  },
  {
   "cell_type": "markdown",
   "metadata": {},
   "source": []
  },
  {
   "cell_type": "markdown",
   "metadata": {},
   "source": []
  }
 ],
 "metadata": {
  "kernelspec": {
   "display_name": "Python 3",
   "language": "python",
   "name": "python3"
  },
  "language_info": {
   "name": "python",
   "version": "3.7.8"
  },
  "orig_nbformat": 4
 },
 "nbformat": 4,
 "nbformat_minor": 2
}
