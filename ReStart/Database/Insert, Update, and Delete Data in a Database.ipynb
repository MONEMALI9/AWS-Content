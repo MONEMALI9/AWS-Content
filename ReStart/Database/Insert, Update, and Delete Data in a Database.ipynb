{
 "cells": [
  {
   "cell_type": "markdown",
   "metadata": {},
   "source": [
    "# Insert, Update, and Delete Data in a Database"
   ]
  },
  {
   "cell_type": "markdown",
   "metadata": {},
   "source": [
    "## Scenario\n",
    "The database operations team has created a relational database called world containing three tables:<br> \n",
    "city, country, and countrylanguage.<br> You have to validate the configuration of the database by running<br> INSERT, UPDATE, and DELETE statements on the country table.  "
   ]
  },
  {
   "cell_type": "markdown",
   "metadata": {},
   "source": [
    "## Lab overview and objectives\n",
    "This lab demonstrates how to insert, update, delete, and import rows of data using structured query language (SQL).<br>\n",
    "\n",
    "After completing this lab, you will be able to:<br>\n",
    "\n",
    "1. Insert rows into a table\n",
    "2. Update rows in a table\n",
    "3. Delete rows from a table\n",
    "4. Import rows from a database backup file"
   ]
  },
  {
   "cell_type": "markdown",
   "metadata": {},
   "source": [
    "When you start this lab, the following resources are already created for you:<br>\n",
    "<img src=\"img/architecture-start (1).jpg\" style = height:400px><br>\n",
    "A Command Host instance and world database containing three tables"
   ]
  },
  {
   "cell_type": "markdown",
   "metadata": {},
   "source": [
    "At the end of this lab, your architecture will look like the following example:<br>\n",
    "<img src = \"img/architecture-end (1).jpg\" style = height:400px><br>\n",
    "A lab user is connected to a database instance. Insert, Update, and Delete operations are shown.<br>\n",
    "\n",
    "Sample data in this course is taken from Statistics Finland, general regional statistics, February 4, 2022.<br>"
   ]
  },
  {
   "cell_type": "markdown",
   "metadata": {},
   "source": [
    "## Duration\n",
    "This lab requires approximately 45 minutes to complete.<br>\n",
    "\n",
    "## AWS service restrictions\n",
    "In this lab environment, access to AWS services and service actions might be restricted to the ones that you need to complete the lab instructions.<br> You might encounter errors if you attempt to access other services or perform actions beyond the ones that this lab describes."
   ]
  },
  {
   "cell_type": "markdown",
   "metadata": {},
   "source": [
    "## Task 2: Insert data into a table\n",
    "In this task, you insert sample data into the country table.<br>\n",
    "\n",
    "13. To verify that the country table is empty, run the following command.<br> The SELECT statement is used to identify the columns that should be included in the result set.<br> The use of the * denotes all columns.<br> The FROM clause is used in the following example to specify the database and table that is queried.<br>\n",
    ">>SELECT * FROM world.country;\n",
    "The table should be empty because it was just created.<br>\n",
    "\n",
    "14. To insert rows into the country table, run the following commands.<br> The values in the VALUES clause need to be in the same order as defined by the table schema.<br>\n",
    "\n",
    ">>INSERT INTO world.country VALUES ('IRL','Ireland','Europe','British Islands',70273.00,1921,3775100,76.8,75921.00,73132.00,'Ireland/Éire','Republic',1447,'IE');\n",
    "\n",
    ">>INSERT INTO world.country VALUES ('AUS','Australia','Oceania','Australia and New Zealand',7741220.00,1901,18886000,79.8,351182.00,392911.00,'Australia','Constitutional Monarchy, Federation',135,'AU');<br>\n",
    "\n",
    "15. To verify that two rows were successfully inserted into the country table, run the following query.<br>\n",
    ">>SELECT * FROM world.country;"
   ]
  },
  {
   "cell_type": "markdown",
   "metadata": {},
   "source": [
    "## Task 3: Update rows in a table\n",
    "In this task, you update both rows in the country table using an UPDATE statement.<br>\n",
    "\n",
    "16. To set the value in the Population column to 0 for both rows in the country table, run the following UPDATE statement.<br> \n",
    ">>UPDATE world.country SET Population = 0;<br>\n",
    "\n",
    "All rows are updated because the UPDATE statement does not include a WHERE condition.<br> A WHERE clause uses conditions to filter rows returned by a query.<br> The next lab introduces the WHERE clause.\n",
    "\n",
    "17. To verify that the Population column in the country table was updated, run the following command.<br>\n",
    ">>SELECT * FROM world.country;<br>\n",
    "18. To update the Population and SurfaceArea columns for all rows in the country table, run the following UPDATE statement.<br>\n",
    ">>UPDATE world.country SET Population = 100, SurfaceArea = 100;<br>\n",
    "\n",
    "19. To verify that the Population and SurfaceArea columns in the country table were updated, run the following command.<br>\n",
    ">>SELECT * FROM world.country;<br>"
   ]
  },
  {
   "cell_type": "markdown",
   "metadata": {},
   "source": [
    "## Task 4: Delete rows from a table\n",
    "In this task, you delete both rows in the country table using a DELETE statement.<br>\n",
    "\n",
    "Exercise caution when using data manipulation statements such as UPDATE and DELETE because these changes may not be reversible. <br>\n",
    "\n",
    "20. To delete ALL rows from the country table, run the following command.<br> \n",
    ">>DELETE FROM world.country;\n",
    "\n",
    "Because the DELETE statement does not include a WHERE condition, all rows are deleted.<br>\n",
    "\n",
    "21. To verify that all rows have been deleted from the country table, run the following command.<br>\n",
    ">>SELECT * FROM world.country;"
   ]
  },
  {
   "cell_type": "markdown",
   "metadata": {},
   "source": []
  },
  {
   "cell_type": "markdown",
   "metadata": {},
   "source": []
  },
  {
   "cell_type": "markdown",
   "metadata": {},
   "source": []
  },
  {
   "cell_type": "markdown",
   "metadata": {},
   "source": []
  },
  {
   "cell_type": "markdown",
   "metadata": {},
   "source": []
  }
 ],
 "metadata": {
  "kernelspec": {
   "display_name": "Python 3",
   "language": "python",
   "name": "python3"
  },
  "language_info": {
   "name": "python",
   "version": "3.7.8"
  },
  "orig_nbformat": 4
 },
 "nbformat": 4,
 "nbformat_minor": 2
}
