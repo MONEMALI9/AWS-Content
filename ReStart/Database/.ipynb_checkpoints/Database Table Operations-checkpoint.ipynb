{
 "cells": [
  {
   "cell_type": "markdown",
   "metadata": {},
   "source": [
    "# Database Table Operations"
   ]
  },
  {
   "cell_type": "markdown",
   "metadata": {},
   "source": [
    "## Scenario\n",
    "The database operations team for an organization has configured a relational database instance.<br> \n",
    "The team has asked you to practice creating and dropping (deleting) databases and tables.<br>"
   ]
  },
  {
   "cell_type": "markdown",
   "metadata": {},
   "source": [
    "## Lab overview and objectives\n",
    "This lab demonstrates how to use some common database and table operations.<br>\n",
    "After completing this lab, you should be able to:<br>\n",
    "\n",
    "1. Use the CREATE statement to create databases and tables\n",
    "2. Use the SHOW statement to view available databases and tables\n",
    "3. Use the ALTER statement to alter the structure of a table\n",
    "4. Use the DROP statement to delete databases and tables\n",
    "\n",
    "When you start the lab, the following resources are already created for you:"
   ]
  },
  {
   "cell_type": "markdown",
   "metadata": {},
   "source": [
    "<img src=\"img/architecture-start.jpg\" style = \"height:400px\"> <br>\n",
    "A database client is installed on an instance."
   ]
  },
  {
   "cell_type": "markdown",
   "metadata": {},
   "source": [
    "At the end of this lab, you will have completed some common database and table operations: <br>\n",
    "<img src=\"img/architecture-end.jpg\" style = \"height:400px\"> <br>\n",
    "A lab user creates a database and tables. Other displayed statements are SHOW, ALTER, and DROP.<br>\n",
    "Sample data in this course is taken from Statistics Finland, general regional statistics, February 4, 2022.<br>"
   ]
  },
  {
   "cell_type": "markdown",
   "metadata": {},
   "source": [
    "## Duration\n",
    "This lab requires approximately 45 minutes to complete.<br>"
   ]
  },
  {
   "cell_type": "markdown",
   "metadata": {},
   "source": [
    "## AWS service restrictions\n",
    "In this lab environment, access to AWS services and service actions might be restricted to the ones that you need to complete the lab instructions.<br> You might encounter errors if you attempt to access other services or perform actions beyond the ones that this lab describes.<br>"
   ]
  },
  {
   "cell_type": "markdown",
   "metadata": {},
   "source": [
    "## Accessing the AWS Management Console\n",
    "1. At the upper-right corner of these instructions, choose  Start Lab\n",
    ">>Troubleshooting tip: If you get an Access Denied error, close the error box, and choose  Start Lab again.\n",
    "\n",
    "2. The following information indicates the lab status:\n",
    ">>A red circle next to AWS  at the upper-left corner of this page indicates that the lab has not been started.<br>\n",
    ">>A yellow circle next to AWS  at the upper-left corner of this page indicates that the lab is starting.<br>\n",
    ">>A green circle next to AWS  at the upper-left corner of this page indicates that the lab is ready.<br>\n",
    "\n",
    "Wait for the lab to be ready before proceeding.<br>\n",
    "3. At the top of these instructions, choose the green circle next to AWS \n",
    "\n",
    "This option opens the AWS Management Console in a new browser tab. The system automatically signs you in.\n",
    "\n",
    ">>Tip: If a new browser tab does not open, a banner or icon at the top of your browser will indicate that your browser is preventing the site from opening pop-up windows.<br> Choose the banner or icon, and choose Allow pop-ups.\n",
    "\n",
    "4. Arrange the AWS Management Console tab so that it displays along side these instructions. Ideally, you should be able to see both browser tabs at the same time so that you can follow the lab steps.\n",
    "\n",
    " Do not change the lab Region unless specifically instructed to do so."
   ]
  },
  {
   "cell_type": "markdown",
   "metadata": {},
   "source": [
    "## Task 1: Connect to the Command Host\n",
    "In this task, you connect to an EC2 instance configured with a database client.<br> The client is used to run structured query language (SQL) queries against a relational database.<br> This instance is referred to as the Command Host.<br>\n",
    "\n",
    "5. In the AWS Management Console, choose the  Services menu. Choose Compute, and then choose EC2.\n",
    "6. In the left navigation menu, choose Instances.\n",
    "7. Next to the instance labelled Command Host, select the check box  and then choose Connect.\n",
    ">>Note: If you do not see the Command Host, the lab is probably still being provisioned, or you may be using another Region.\n",
    "8. For Connect to instance, choose the Session Manager tab.\n",
    "9. Choose Connect to open a terminal window.\n",
    ">>Note: If the Connect button is not available, wait for a few minutes and try again.\n",
    "10. To configure the terminal to access all required tools and resources, run the following command:"
   ]
  },
  {
   "cell_type": "code",
   "execution_count": 1,
   "metadata": {},
   "outputs": [
    {
     "data": {
      "text/plain": [
       "'\\nsudo su\\ncd /home/ec2-user/\\n'"
      ]
     },
     "execution_count": 1,
     "metadata": {},
     "output_type": "execute_result"
    }
   ],
   "source": [
    "'''\n",
    "sudo su\n",
    "cd /home/ec2-user/\n",
    "'''"
   ]
  },
  {
   "cell_type": "markdown",
   "metadata": {},
   "source": [
    "Recall Linux commands:<br>\n",
    "\n",
    "The sudo (SuperUser DO) command is used to run a Linux command with the privileges of another user.<br>\n",
    "\n",
    "The su (switch user) command is used to switch to a different user. By default, it uses the root user if no user is specified.<br>\n",
    "\n",
    "The cd (change directory) command is used to change from the current directory to a new path.<br>"
   ]
  },
  {
   "cell_type": "markdown",
   "metadata": {},
   "source": [
    "11. To connect to the relational database instance, run the following command in the terminal.<br> A password was configured when the database was installed.<br>\n",
    "\n",
    ">>mysql -u root --password='re:St@rt!9'<br>\n",
    "The MySQL command-line client is an SQL shell that you can use to interact with database engines.<br>\n",
    "\n",
    "Switch\t            Description<br>\n",
    "-u or --user\t    The MySQL user name used to connect to a database instance<br>\n",
    "-p or --password\tThe MySQL password used to connect to a database instance<br>\n",
    ">>Tip: At any stage of the lab, if the Session Manager window is not responsive or if you need to reconnect to the database instance, then follow these steps:\n",
    "\n",
    "Close the Session Manager window, and try to reconnect using the previous steps.<br>\n",
    "\n",
    "Run the following commands in the terminal.<br>"
   ]
  },
  {
   "cell_type": "code",
   "execution_count": 2,
   "metadata": {},
   "outputs": [
    {
     "data": {
      "text/plain": [
       "\"\\nsudo su\\ncd /home/ec2-user/\\nmysql -u root --password='re:St@rt!9'\\n\""
      ]
     },
     "execution_count": 2,
     "metadata": {},
     "output_type": "execute_result"
    }
   ],
   "source": [
    "'''\n",
    "sudo su\n",
    "cd /home/ec2-user/\n",
    "mysql -u root --password='re:St@rt!9'\n",
    "'''"
   ]
  },
  {
   "cell_type": "markdown",
   "metadata": {},
   "source": [
    "## Task 2: Create a database and a table\n",
    "In this task, you create a database named world and a table named country. You then alter the country table.<br>\n",
    "\n",
    "12. To show the existing databases, run the following query. \n",
    ">>SHOW DATABASES;<br>\n",
    "\n",
    "To determine the available database and to ensure that you are working with the correct database instance, use the SHOW DATABASES; command. <br>\n",
    "\n",
    "13. To create a new database named world, run the following command.\n",
    ">>CREATE DATABASE world;\n",
    "\n",
    "14. To verify that the world database has been created, run the following query.<br>\n",
    ">>SHOW DATABASES;\n",
    "15. To store data in a database, the database needs to contain one or more tables.<br> In an SQL database, a table needs a well-defined structure, known as a table schema. <br>To create a table named country, run the following command. "
   ]
  },
  {
   "cell_type": "code",
   "execution_count": 3,
   "metadata": {},
   "outputs": [
    {
     "data": {
      "text/plain": [
       "\"\\nCREATE TABLE world.country (\\n  `Code` CHAR(3) NOT NULL DEFAULT '',\\n  `Name` CHAR(52) NOT NULL DEFAULT '',\\n  `Conitinent` enum('Asia','Europe','North America','Africa','Oceania','Antarctica','South  America') NOT NULL DEFAULT 'Asia',\\n  `Region` CHAR(26) NOT NULL DEFAULT '',\\n  `SurfaceArea` FLOAT(10,2) NOT NULL DEFAULT '0.00',\\n  `IndepYear` SMALLINT(6) DEFAULT NULL,\\n  `Population` INT(11) NOT NULL DEFAULT '0',\\n  `LifeExpectancy` FLOAT(3,1) DEFAULT NULL,\\n  `GNP` FLOAT(10,2) DEFAULT NULL,\\n  `GNPOld` FLOAT(10,2) DEFAULT NULL,\\n  `LocalName` CHAR(45) NOT NULL DEFAULT '',\\n  `GovernmentForm` CHAR(45) NOT NULL DEFAULT '',\\n  `HeadOfState` CHAR(60) DEFAULT NULL,\\n  `Capital` INT(11) DEFAULT NULL,\\n  `Code2` CHAR(2) NOT NULL DEFAULT '',\\n  PRIMARY KEY (`Code`)\\n);\\n\""
      ]
     },
     "execution_count": 3,
     "metadata": {},
     "output_type": "execute_result"
    }
   ],
   "source": [
    "'''\n",
    "CREATE TABLE world.country (\n",
    "  `Code` CHAR(3) NOT NULL DEFAULT '',\n",
    "  `Name` CHAR(52) NOT NULL DEFAULT '',\n",
    "  `Conitinent` enum('Asia','Europe','North America','Africa','Oceania','Antarctica','South  America') NOT NULL DEFAULT 'Asia',\n",
    "  `Region` CHAR(26) NOT NULL DEFAULT '',\n",
    "  `SurfaceArea` FLOAT(10,2) NOT NULL DEFAULT '0.00',\n",
    "  `IndepYear` SMALLINT(6) DEFAULT NULL,\n",
    "  `Population` INT(11) NOT NULL DEFAULT '0',\n",
    "  `LifeExpectancy` FLOAT(3,1) DEFAULT NULL,\n",
    "  `GNP` FLOAT(10,2) DEFAULT NULL,\n",
    "  `GNPOld` FLOAT(10,2) DEFAULT NULL,\n",
    "  `LocalName` CHAR(45) NOT NULL DEFAULT '',\n",
    "  `GovernmentForm` CHAR(45) NOT NULL DEFAULT '',\n",
    "  `HeadOfState` CHAR(60) DEFAULT NULL,\n",
    "  `Capital` INT(11) DEFAULT NULL,\n",
    "  `Code2` CHAR(2) NOT NULL DEFAULT '',\n",
    "  PRIMARY KEY (`Code`)\n",
    ");\n",
    "'''"
   ]
  },
  {
   "cell_type": "markdown",
   "metadata": {},
   "source": [
    "15. To verify that the country table was created, use the SHOW TABLES; command to list the tables in the database.<br> You use the USE command to specify which database to run a query against.<br> Run the following commands in your terminal. \n",
    ">>USE world;<br>\n",
    ">>SHOW TABLES;<br>\n",
    "\n",
    "16. Use the SHOW COLUMNS query to list all the columns on a table.<br> Run the following query to list all columns and their properties in the country table.\n",
    ">>SHOW COLUMNS FROM world.country;<br>\n",
    "Note: Notice that the Continent column is spelled incorrectly as Conitinent. \n",
    "\n",
    "17. The ALTER TABLE command is used to alter the table's schema. <br>To fix the incorrectly spelled Continent column, run the following command.\n",
    ">>ALTER TABLE world.country RENAME COLUMN Conitinent TO Continent;\n",
    "\n",
    "18. To verify that the Continent column name in the country table has been corrected, run the following query.\n",
    ">>SHOW COLUMNS FROM world.country;\n",
    "\n",
    "19. To verify that the Continent column name in the country table has been corrected, run the following query.\n",
    ">>SHOW COLUMNS FROM world.country;"
   ]
  },
  {
   "cell_type": "markdown",
   "metadata": {},
   "source": [
    "## Challenge 1\n",
    "Create a table named city and add two columns named Name and Region.<br> Both columns should use the CHAR data type.<br>\n",
    ">>CREATE TABLE world.city (`Name` CHAR(52), `Region` CHAR(26));"
   ]
  },
  {
   "cell_type": "markdown",
   "metadata": {},
   "source": [
    "## Task 3: Delete a database and tables\n",
    "In this task, you delete the world database and country table. <br>\n",
    "\n",
    "20. The DROP TABLE command is used to delete (drop) a table in a database. <br>Once a table has been dropped, it cannot be recovered unless a backup is available. <br>To drop the city table, run the following command.\n",
    "\n",
    ">>DROP TABLE world.city;"
   ]
  },
  {
   "cell_type": "markdown",
   "metadata": {},
   "source": [
    "## Challenge 2\n",
    "Write a query to drop the country table.\n",
    ">>DROP TABLE world.country;"
   ]
  },
  {
   "cell_type": "markdown",
   "metadata": {},
   "source": [
    "21. To verify that both tables have been dropped, run the following query.\n",
    ">>SHOW TABLES;\n",
    "\n",
    "22. To drop the world database, run the following command.\n",
    ">>DROP DATABASE world;\n",
    "\n",
    "23. To verify that the world database has been deleted, run the following query.\n",
    ">>SHOW DATABASES;"
   ]
  },
  {
   "cell_type": "markdown",
   "metadata": {},
   "source": [
    "## Conclusion\n",
    "Congratulations! You now have successfully:<br>\n",
    "\n",
    "1. Used the CREATE statement to create databases and tables\n",
    "2. Used the SHOW statement to view available databases and tables\n",
    "3. Used the ALTER statement to alter the structure of a table\n",
    "4. Used the DROP statement to delete databases and tables"
   ]
  },
  {
   "cell_type": "markdown",
   "metadata": {},
   "source": [
    "## Additional resources\n",
    "Country, city, and language data, Statistics Finland:<br> The material was downloaded from Statistics Finland's interface service on February 4, 2022, with the license CC BY 4.0.<br> The original data source is available from Statistics Finland.<br>\n",
    "\n",
    "For more information about SQL table operation commands, see the following resources:<br>\n",
    "\n",
    "[CREATE database](https://mariadb.com/kb/en/create-database/)<br>\n",
    "[CREATE table](https://mariadb.com/kb/en/create-table/)<br>\n",
    "[SHOW commands](https://mariadb.com/kb/en/show/)<br>\n",
    "[ALTER table](https://mariadb.com/kb/en/alter-table/)<br>\n",
    "[DROP database](https://mariadb.com/kb/en/drop-database/)<br>\n",
    "[DROP table](https://mariadb.com/kb/en/drop-table/)<br>"
   ]
  }
 ],
 "metadata": {
  "kernelspec": {
   "display_name": "Python 3 (ipykernel)",
   "language": "python",
   "name": "python3"
  },
  "language_info": {
   "codemirror_mode": {
    "name": "ipython",
    "version": 3
   },
   "file_extension": ".py",
   "mimetype": "text/x-python",
   "name": "python",
   "nbconvert_exporter": "python",
   "pygments_lexer": "ipython3",
   "version": "3.7.8"
  }
 },
 "nbformat": 4,
 "nbformat_minor": 2
}
