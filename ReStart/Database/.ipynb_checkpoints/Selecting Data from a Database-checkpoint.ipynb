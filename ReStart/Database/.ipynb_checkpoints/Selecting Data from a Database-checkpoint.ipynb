{
 "cells": [
  {
   "cell_type": "markdown",
   "metadata": {},
   "source": [
    "# Selecting Data from a Database"
   ]
  },
  {
   "cell_type": "markdown",
   "metadata": {},
   "source": []
  },
  {
   "cell_type": "markdown",
   "metadata": {},
   "source": []
  },
  {
   "cell_type": "markdown",
   "metadata": {},
   "source": []
  },
  {
   "cell_type": "markdown",
   "metadata": {},
   "source": []
  },
  {
   "cell_type": "markdown",
   "metadata": {},
   "source": []
  },
  {
   "cell_type": "markdown",
   "metadata": {},
   "source": [
    "## Task 2: Query the world database\n",
    "In this task, you query the world database using various SELECT statements and database operators.<br>\n",
    "\n",
    "12. To show the existing databases, enter the following command in the terminal.<br>\n",
    ">>SHOW DATABASES;<br>\n",
    "Verify that a database named world is available. If the world database is not available, then contact your instructor.<br>\n",
    "\n",
    "13. To list all rows and columns in the country table, run the following query.<br>\n",
    ">>SELECT * FROM world.country;\n",
    "\n",
    "14. To query the number of rows in a table, you can use the COUNT() function in a SELECT statement.<br> To count all the rows in table, you can use COUNT(*).<br> To count the number of rows that have a value in a specific column, include the column name as a parameter in the COUNT() function: for example, COUNT(Population).<br> To list the number of rows in the country table, run the following query.<br>\n",
    ">>SELECT COUNT(*) FROM world.country;<br>\n",
    "\n",
    "15. To list all columns in the country table, run the following query. You run this query to understand the table schema.<br>\n",
    ">>SHOW COLUMNS FROM world.country;<br>\n",
    "\n",
    "16. To query specific columns in the world table, run the following query to return a result set that includes the Name, Capital, Region, SurfaceArea, and Population columns.<br>\n",
    ">>SELECT Name, Capital, Region, SurfaceArea, Population FROM world.country;<br>\n",
    "\n",
    "17. Database column names are sometimes not user friendly. To add a more descriptive column name to the query output, you can use the AS option. Run the following query that includes this option.<br>\n",
    ">>SELECT Name, Capital, Region, SurfaceArea AS \"Surface Area\", Population FROM world.country;<br>\n",
    "\n",
    "If required, scroll to the top of the query results, and observe that the SurfaceArea column is displayed as Surface Area.<br>\n",
    "\n",
    "18. Ordered result sets are easier to view and work with.<br> If you would like to order the output based on a column, you can use the ORDER BY option.<br> In this example, you order the output based on the population.<br>\n",
    ">>SELECT Name, Capital, Region, SurfaceArea AS \"Surface Area\", Population FROM world.country ORDER BY Population;<br>\n",
    "\n",
    "The ORDER BY option orders data in ascending order.<br>\n",
    "\n",
    "19. To order data in descending order, use the DESC option with ORDER BY. Run the following command with this option.<br> \n",
    ">>SELECT Name, Capital, Region, SurfaceArea AS \"Surface Area\", Population FROM world.country ORDER BY Population DESC;<br>\n",
    "\n",
    "20. You can add conditions to SELECT statements by using the WHERE clause.<br> For example, to list all rows with a population greater than 50,000,000, run the following query.<br>\n",
    ">>SELECT Name, Capital, Region, SurfaceArea AS \"Surface Area\", Population FROM world.country WHERE Population > 50000000 ORDER BY Population DESC;\n",
    "You have used the > comparison operator. Similarly, you can use other comparison operators to compare values.\n",
    "\n",
    "21. You can construct a WHERE clause by using a number of conditions and operators.<br>\n",
    "\n",
    "The following query uses two conditions: all rows with a population greater than 50,000,000 and all rows with a population less than 100,000,000. The query includes the AND operator to indicate that both the conditions must be true. Run the following query in your terminal.\n",
    "\n",
    ">>SELECT Name, Capital, Region, SurfaceArea AS \"Surface Area\", Population FROM world.country WHERE Population > 50000000 AND Population < 100000000 ORDER BY Population DESC;<br>\n",
    "\n",
    "For more information about comparison operators, see the Additional resources section at the end of the lab.<br>"
   ]
  },
  {
   "cell_type": "markdown",
   "metadata": {},
   "source": [
    "## Challenge\n",
    "Query the country table to return a set of records based on the following question.<br>\n",
    "\n",
    "Which country in Southern Europe has a population greater than 50,000,000?\n",
    ">>SELECT Name, Capital, Region, SurfaceArea AS \"Surface Area\", Population from world.country WHERE Population > 50000000 AND Region = \"Southern Europe\";"
   ]
  },
  {
   "cell_type": "markdown",
   "metadata": {},
   "source": [
    "## Conclusion\n",
    "Congratulations! You have now successfully:\n",
    "\n",
    "Used the SELECT statement to query a database<br>\n",
    "\n",
    "Used the COUNT() function<br>\n",
    "\n",
    "Used the following operators to query a database:<br>\n",
    "1. <\n",
    "2. >\n",
    "3. =\n",
    "4. WHERE\n",
    "5. ORDER BY\n",
    "5. AND"
   ]
  },
  {
   "cell_type": "markdown",
   "metadata": {},
   "source": [
    "## Additional resources\n",
    "Country, city, and language data, Statistics Finland: The material was downloaded from Statistics Finland's interface service on February 4, 2022, with the license [CC BY 4.0](https://creativecommons.org/licenses/by/4.0/deed.en).<br> The original data source is available from [Statistics Finland](https://stat.fi/tup/kansainvalista-tilastotietoa_en.html).<br>\n",
    "\n",
    "For more information about database functions and operators, see the following resources:<br>\n",
    "\n",
    "1. [SELECT statements](https://mariadb.com/kb/en/select/)\n",
    "2. [Count function](https://mariadb.com/kb/en/count/)\n",
    "3. [Order By](https://mariadb.com/kb/en/order-by/)\n",
    "4. [Operators](https://mariadb.com/kb/en/operators/)\n",
    "5. [Comparison Operators](https://mariadb.com/kb/en/comparison-operators/)\n",
    "<br>\n",
    "For more information about AWS Training and Certification, see [AWS Training and Certification](https://support.aws.amazon.com/#/contacts/aws-training)."
   ]
  }
 ],
 "metadata": {
  "kernelspec": {
   "display_name": "Python 3 (ipykernel)",
   "language": "python",
   "name": "python3"
  },
  "language_info": {
   "codemirror_mode": {
    "name": "ipython",
    "version": 3
   },
   "file_extension": ".py",
   "mimetype": "text/x-python",
   "name": "python",
   "nbconvert_exporter": "python",
   "pygments_lexer": "ipython3",
   "version": "3.7.8"
  }
 },
 "nbformat": 4,
 "nbformat_minor": 2
}
