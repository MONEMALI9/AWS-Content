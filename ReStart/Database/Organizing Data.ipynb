{
 "cells": [
  {
   "cell_type": "markdown",
   "metadata": {},
   "source": [
    "## Organizing Data"
   ]
  },
  {
   "cell_type": "markdown",
   "metadata": {},
   "source": [
    "# Scenario\n",
    "The database operations team has created a relational database named world containing three tables:<br> city, country, and countrylanguage.<br> You help write a few queries to group records for analysis by using both the GROUP BY and OVER clauses."
   ]
  },
  {
   "cell_type": "markdown",
   "metadata": {},
   "source": [
    "## Lab overview and objectives\n",
    "This lab demonstrates how to use some common database functions with the GROUP BY and OVER clauses.<br>\n",
    "\n",
    "After completing this lab, you should be able to:<br>\n",
    "\n",
    "1. Use the GROUP BY clause with the aggregate function SUM()\n",
    "2. Use the OVER clause with the RANK() window function\n",
    "3. Use the OVER clause with the aggregate function SUM() and the RANK() window function"
   ]
  },
  {
   "cell_type": "markdown",
   "metadata": {},
   "source": [
    "When you start the lab, the following resources are already created for you:<br>\n",
    "<img src=\"img/architecture-start (6).jpg\" style=\"height:400px\">  <br>\n",
    "A Command Host instance and world database containing three tables"
   ]
  },
  {
   "cell_type": "markdown",
   "metadata": {},
   "source": [
    "At the end of this lab, you would have used both the GROUP BY and OVER clauses with some common database operators:<br>\n",
    "<img src=\"img/architecture-end (6).jpg\" style = \"height:400px\"> <br>\n",
    "A lab user is connected to a database instance. It also displays some commonly used SQL clauses and database functions."
   ]
  },
  {
   "cell_type": "markdown",
   "metadata": {},
   "source": []
  },
  {
   "cell_type": "markdown",
   "metadata": {},
   "source": [
    "## Task 2: Query the world database\n",
    "In this task, you query the world database using various SELECT statements and database functions."
   ]
  },
  {
   "cell_type": "markdown",
   "metadata": {},
   "source": [
    "12. To show the existing databases, enter the following command in the terminal.<br> \n",
    ">>SHOW DATABASES;\n",
    "\n",
    "Verify that a database named world is available. If the world database is not available, contact your instructor."
   ]
  },
  {
   "cell_type": "markdown",
   "metadata": {},
   "source": [
    "13. To review the table schema, data, and number of rows in the country table, enter the following query.\n",
    ">>SELECT * <br>\n",
    ">>FROM world.country;"
   ]
  },
  {
   "cell_type": "markdown",
   "metadata": {},
   "source": [
    "14. To return a list of records where the Region is Australia and New Zealand, <br>run the following query.<br> This query includes an ORDER BY clause (which a previous lab introduced) that arranges the results by Population in descending order.\n",
    ">>SELECT Region, Name, Population<br> \n",
    ">>FROM world.country<br> \n",
    ">>WHERE Region = 'Australia and New Zealand' ORDER By Population desc;"
   ]
  },
  {
   "cell_type": "markdown",
   "metadata": {},
   "source": [
    "You can use the GROUP BY clause to group related records together.<br> The following example starts by filtering records using a condition where the region is equal to Australia and New Zealand.<br> The results are then grouped together by using a GROUP BY clause.<br> The SUM() function is then applied to the grouped results to generate a total population for that region.<br> Run the following query in your terminal.\n",
    "\n",
    ">>SELECT Region, SUM(Population)<br>\n",
    "FROM world.country<br> \n",
    "WHERE Region = 'Australia and New Zealand'<br> \n",
    "GROUP By Region<br> \n",
    "ORDER By SUM(Population) desc;\n",
    "\n",
    "This query returns a SUM() of the Population for the Australia and New Zealand region.<br> Because the WHERE clause is filtered by Region, only the Australia and New Zealand records are aggregated. "
   ]
  },
  {
   "cell_type": "markdown",
   "metadata": {},
   "source": [
    "The following example uses a windowing function to generate a running total by adding the Population of the first record to the Population of the second record and subsequent records.<br> This query uses the OVER() clause to group the records by Region and uses the SUM() function to aggregate the records.<br> The output displays the population of a country along side a running total of the region.<br> Run the following query in your terminal.\n",
    "\n",
    ">>SELECT Region, Name, Population, SUM(Population) OVER(partition by Region ORDER BY Population) as 'Running Total'<br> FROM world.country<br> \n",
    "WHERE Region = 'Australia and New Zealand';"
   ]
  },
  {
   "cell_type": "markdown",
   "metadata": {},
   "source": [
    "The following query groups the records by Region and orders them by Population with the OVER() clause.<br>  This query also includes the RANK() function to generate a rank number indicating the position of each record in the result set.<br>  The RANK() function is useful when dealing with large groups of records.<br>  Run the following query in your terminal.\n",
    "\n",
    ">>SELECT Region, Name, Population, SUM(Population) OVER(partition by Region ORDER BY Population) as 'Running Total', RANK() over(partition by region ORDER BY population) as 'Ranked'<br> \n",
    "FROM world.country<br>\n",
    "WHERE region = 'Australia and New Zealand';"
   ]
  },
  {
   "cell_type": "markdown",
   "metadata": {},
   "source": [
    "## Challenge\n",
    "Write a query to rank the countries in each region by their population from largest to smallest.<br>\n",
    "\n",
    "You have to determine whether to use either the GROUP BY or OVER grouping clause and either the SUM() or RANK() function.\n",
    "\n",
    ">>SELECT Region, Name, Population, RANK() OVER(partition by Region ORDER BY Population desc) as 'Ranked'<br> \n",
    "FROM world.country<br> \n",
    "order by Region, Ranked;"
   ]
  },
  {
   "cell_type": "markdown",
   "metadata": {},
   "source": [
    "## Conclusion\n",
    "Congratulations! You have now successfully:<br>\n",
    "\n",
    "1. Used the GROUP BY clause with the aggregate function SUM()\n",
    "2. Used the OVER clause with the RANK() window function\n",
    "3. Used the OVER clause with the aggregate function SUM() and the RANK() window function"
   ]
  },
  {
   "cell_type": "markdown",
   "metadata": {},
   "source": []
  }
 ],
 "metadata": {
  "kernelspec": {
   "display_name": "Python 3",
   "language": "python",
   "name": "python3"
  },
  "language_info": {
   "name": "python",
   "version": "3.7.8"
  },
  "orig_nbformat": 4
 },
 "nbformat": 4,
 "nbformat_minor": 2
}
