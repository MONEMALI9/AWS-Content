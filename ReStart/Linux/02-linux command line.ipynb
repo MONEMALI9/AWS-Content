{
 "cells": [
  {
   "cell_type": "markdown",
   "metadata": {},
   "source": [
    "# Linux Command Line\n",
    "\n",
    "    Note: All labs rely on previous courseware and lab information.\n",
    "\n",
    "# Objectives\n",
    "\n",
    "In this lab, you will:\n",
    "\n",
    "    1. Run commands to gain knowledge of your current system and current session \n",
    "    2. Search and run previous bash commands\n",
    " \n",
    "# Duration\n",
    "This lab requires approximately 30 minutes to complete.\n",
    "\n",
    "# AWS service restrictions\n",
    "In this lab environment, access to AWS services and service actions might be restricted to the ones that you need to complete the lab instructions. You might encounter errors if you attempt to access other services or perform actions beyond the ones that this lab describes."
   ]
  },
  {
   "cell_type": "markdown",
   "metadata": {},
   "source": [
    "## Accessing the AWS Management Console\n",
    "1. At the top of these instructions, choose Start Lab to launch your lab.\n",
    "A Start Lab panel opens, and it displays the lab status.\n",
    "\n",
    "    Tip: If you need more time to complete the lab, choose the Start Lab button again to restart the timer for the environment.\n",
    "\n",
    "2. Wait until you see the message Lab status: ready, then close the Start Lab panel by choosing the X.\n",
    "\n",
    "3. At the top of these instructions, choose AWS.\n",
    "This opens the AWS Management Console in a new browser tab. The system will automatically log you in.\n",
    "\n",
    "    Tip: If a new browser tab does not open, a banner or icon is usually at the top of your browser with a message that your browser is preventing the site from opening pop-up windows. Choose the banner or icon and then choose Allow pop ups.\n",
    "\n",
    "4. Arrange the AWS Management Console tab so that it displays along side these instructions. Ideally, you will be able to see both browser tabs at the same time so that you can follow the lab steps more easily."
   ]
  },
  {
   "cell_type": "markdown",
   "metadata": {},
   "source": [
    "# Task 1: Use SSH to connect to an Amazon Linux EC2 instance\n",
    "In this task, you will connect to a Amazon Linux EC2 instance. You will use an SSH utility to perform all of these operations. The following instructions vary slightly depending on whether you are using Windows or Mac/Linux."
   ]
  },
  {
   "cell_type": "markdown",
   "metadata": {},
   "source": [
    "## Windows Users: Using SSH to Connect\n",
    "These instructions are specifically for Windows users. If you are using macOS or Linux, skip to the next section.\n",
    "\n",
    "5. Select the Details drop-down menu above these instructions you are currently reading, and then select Show. A Credentials window will be presented.\n",
    "\n",
    "6. Select the Download PPK button and save the labsuser.ppk file.\n",
    "Typically your browser will save it to the Downloads directory.\n",
    "\n",
    "7. Make a note of the PublicIP address.\n",
    "\n",
    "8. Then exit the Details panel by selecting the X.\n",
    "\n",
    "9. Download  PuTTY to SSH into the Amazon EC2 instance. If you do not have PuTTY installed on your computer, download it here.\n",
    "\n",
    "10. Open putty.exe\n",
    "\n",
    "11. Configure PuTTY timeout to keep the PuTTY session open for a longer period of time.:\n",
    "\n",
    "    Select Connection\n",
    "    Set Seconds between keepalives to 30\n",
    "\n",
    "12. Configure your PuTTY session:\n",
    "\n",
    "    Select Session\n",
    "    Host Name (or IP address): Paste the Public DNS or IPv4 address of the instance you made a note of earlier.\n",
    "    Alternatively, return to the EC2 Console and select Instances. Check the box next to the instance you want to connect to and in the Description tab copy the IPv4 Public IP value.\n",
    "    Back in PuTTY, in the Connection list, expand  SSH\n",
    "\n",
    "    Select Auth (don't expand it)\n",
    "    Select Browse\n",
    "    Browse to and select the lab#.ppk file that you downloaded\n",
    "    Select Open to select it\n",
    "    Select Open again.\n",
    "\n",
    "13. Select Yes, to trust and connect to the host.\n",
    "\n",
    "14. When prompted login as, enter: ec2-user\n",
    "    This will connect you to the EC2 instance.\n",
    "\n",
    "15. Windows Users: Select here to skip ahead to the next task."
   ]
  },
  {
   "cell_type": "markdown",
   "metadata": {},
   "source": [
    "## macOS  and Linux  Users\n",
    "These instructions are specifically for Mac/Linux users. If you are a Windows user, skip ahead to the next task.\n",
    "\n",
    "16. Select the Details drop-down menu above these instructions you are currently reading, and then select Show. A Credentials window will be presented.\n",
    "\n",
    "17. Select the Download PEM button and save the labsuser.pem file.\n",
    "\n",
    "18. Make a note of the PublicIP address.\n",
    "\n",
    "19. Then exit the Details panel by selecting the X.\n",
    "\n",
    "20. Open a terminal window, and change directory cd to the directory where the labsuser.pem file was downloaded. For example, if the labuser.pem file was saved to your Downloads directory, run this command:\n",
    "\n",
    "    cd ~/Downloads\n",
    "\n",
    "21. Change the permissions on the key to be read-only, by running this command:\n",
    "\n",
    "    chmod 400 labsuser.pem\n",
    "\n",
    "22. Run the below command (replace <public-ip> with the PublicIP address you copied earlier).\n",
    "Alternatively, return to the EC2 Console and select Instances. Check the box next to the instance you want to connect to and in the Description tab copy the IPv4 Public IP value.:\n",
    "\n",
    "    ssh -i labsuser.pem ec2-user@<public-ip>\n",
    "    \n",
    "23. Type yes when prompted to allow the first connection to this remote SSH server.\n",
    "Because you are using a key pair for authentication, you will not be prompted for a password."
   ]
  },
  {
   "cell_type": "markdown",
   "metadata": {},
   "source": [
    "# Task 2: Run familiar commands\n",
    "In this exercise, you run a few commands to gain some general knowledge of the system and session that you are using.\n",
    "\n",
    "    24. From the terminal, enter whoa and press Tab. Notice that the auto complete feature displays the full command, whoami.\n",
    "    \n",
    "    25. Press Enter to display your current username.\n",
    "\n",
    "    26. Enter hostname -s and press Enter to display a shortened version of computer’s host name.\n",
    "\n",
    "    27. Enter uptime -p and press Enter to display the uptime of the system in an easily readable format.\n",
    "\n",
    "    28. From the terminal, enter who -H -a and press Enter to display information about the users who are logged in and some additional information.\n",
    "\n",
    "    29. Enter TZ=America/New_York date and press Enter. Then enter TZ=America/Los_Angeles date\n",
    "\n",
    "    30. Some professions use the Julian date to conduct business. The Julian format continues consecutively instead of restarting the date at 1 at the beginning of each month. For example, in the Gregorian calendar format, the day after January 31 is February 1. However, in the Julian format, the day after January 31 is February 32 instead of February 1. You can check this information by entering cal -j in your terminal to see the Julian dates for your current month.\n",
    "\n",
    "    31. Enter the cal -s or cal -m commands to display alternate views of the calendar.\n",
    "    \n",
    "    32. For your last command, enter id ec2-user into the terminal, and press Enter to see your unique ID and group information about your specific user."
   ]
  },
  {
   "cell_type": "markdown",
   "metadata": {},
   "source": [
    "# Task 3: Improve workflow through history and search\n",
    "In this task, you attempt to ease your overall workload by reusing commands through search techniques, manual visualization of the bash history log, and reuse of the last command.\n",
    "\n",
    "    33. Start by viewing the current bash history. Enter history and press ENTER. In the output, check if the commands that you see are the commands that you used in task 2.\n",
    "\n",
    "        The history command displays a list of the last commands entered into the console. \n",
    "\n",
    "    34. To search your previous history, press CTRL+R to bring up a reverse history search. In the reverse history search feature of the terminal, enter TZ and press Tab. This step brings up an old use of the date command that you can edit. Using your arrow buttons, you can now edit the command inline.\n",
    "\n",
    "        This is a history searching feature that gives you the ability to edit the command that you search for. You must use Tab autocomplete to edit and run the commands.\n",
    "    \n",
    "\n",
    "    35. Enter date into the terminal, and press Enter. Enter !! and press Enter. This step gives you the ability to to rerun the most recent command."
   ]
  },
  {
   "cell_type": "markdown",
   "metadata": {},
   "source": []
  },
  {
   "cell_type": "markdown",
   "metadata": {},
   "source": []
  },
  {
   "cell_type": "markdown",
   "metadata": {},
   "source": []
  }
 ],
 "metadata": {
  "language_info": {
   "name": "python"
  }
 },
 "nbformat": 4,
 "nbformat_minor": 2
}
