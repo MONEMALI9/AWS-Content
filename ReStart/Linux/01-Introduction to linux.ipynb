{
 "cells": [
  {
   "cell_type": "markdown",
   "metadata": {},
   "source": [
    "# Introduction to an Amazon Linux Amazon Machine Image (AMI)\n",
    "This lab is designed to reinforce your knowledge of the basic command line interface functionality and provide a solid foundation from which you can continue to learn about new commands and capabilities within the Linux shell."
   ]
  },
  {
   "cell_type": "markdown",
   "metadata": {},
   "source": [
    "## Duration\n",
    "This lab requires approximately 30 minutes to complete."
   ]
  },
  {
   "cell_type": "markdown",
   "metadata": {},
   "source": [
    "## Scenario\n",
    "In this lab, you use Secure Shell (SSH) to access an Amazon Linux Amazon Machine Image (AMI) within Vocareum labs. Next, you use the man command to access the man pages."
   ]
  },
  {
   "cell_type": "markdown",
   "metadata": {},
   "source": [
    "## Objectives\n",
    "After completing this lab, you will be able to:\n",
    "\n",
    "    Use SSH to access an Amazon Linux AMI within Vocareum labs\n",
    "    Understand the purpose of the man command\n",
    "    Demonstrate the search feature of the man pages\n",
    "    Examine man page headers"
   ]
  },
  {
   "cell_type": "markdown",
   "metadata": {},
   "source": [
    "### The following components are created for you as a part of the lab environment:\n",
    "\n",
    "    Amazon EC2 - Command Host (in the public subnet): You log in to this instance to use the commands listed within this lab.\n",
    "\n",
    "The following are other components in this lab. You examine these components later during this course.\n",
    "\n",
    "    Public subnet\n",
    "    Amazon Virtual Private Cloud (Amazon VPC)"
   ]
  },
  {
   "cell_type": "markdown",
   "metadata": {},
   "source": [
    "## Accessing the AWS Management Console\n",
    "1. At the top of these instructions, choose Start Lab to launch your lab.\n",
    "A Start Lab panel opens, and it displays the lab status.\n",
    "\n",
    "    Tip: If you need more time to complete the lab, choose the Start Lab button again to restart the timer for the environment.\n",
    "\n",
    "2. Wait until you see the message Lab status: ready, then close the Start Lab panel by choosing the X.\n",
    "\n",
    "3. At the top of these instructions, choose AWS.\n",
    "This opens the AWS Management Console in a new browser tab. The system will automatically log you in.\n",
    "\n",
    "    Tip: If a new browser tab does not open, a banner or icon is usually at the top of your browser with a message that your browser is preventing the site from opening pop-up windows. Choose the banner or icon and then choose Allow pop ups.\n",
    "\n",
    "4. Arrange the AWS Management Console tab so that it displays along side these instructions. Ideally, you will be able to see both browser tabs at the same time so that you can follow the lab steps more easily."
   ]
  },
  {
   "cell_type": "markdown",
   "metadata": {},
   "source": [
    "# Task 1: Use SSH to connect to an Amazon Linux EC2 instance\n",
    "In this task, you will connect to a Amazon Linux EC2 instance. You will use an SSH utility to perform all of these operations. The following instructions vary slightly depending on whether you are using Windows or Mac/Linux."
   ]
  },
  {
   "cell_type": "markdown",
   "metadata": {},
   "source": [
    "## Windows Users: Using SSH to Connect\n",
    "These instructions are specifically for Windows users. If you are using macOS or Linux, skip to the next section.\n",
    "\n",
    "5. Select the Details drop-down menu above these instructions you are currently reading, and then select Show. A Credentials window will be presented.\n",
    "\n",
    "6. Select the Download PPK button and save the labsuser.ppk file.\n",
    "Typically your browser will save it to the Downloads directory.\n",
    "\n",
    "7. Make a note of the PublicIP address.\n",
    "\n",
    "8. Then exit the Details panel by selecting the X.\n",
    "\n",
    "9. Download  PuTTY to SSH into the Amazon EC2 instance. If you do not have PuTTY installed on your computer, download it here.\n",
    "\n",
    "10. Open putty.exe\n",
    "\n",
    "11. Configure PuTTY timeout to keep the PuTTY session open for a longer period of time.:\n",
    "\n",
    "    Select Connection\n",
    "    Set Seconds between keepalives to 30\n",
    "\n",
    "12. Configure your PuTTY session:\n",
    "\n",
    "    Select Session\n",
    "    Host Name (or IP address): Paste the Public DNS or IPv4 address of the instance you made a note of earlier.\n",
    "    Alternatively, return to the EC2 Console and select Instances. Check the box next to the instance you want to connect to and in the Description tab copy the IPv4 Public IP value.\n",
    "    Back in PuTTY, in the Connection list, expand  SSH\n",
    "\n",
    "    Select Auth (don't expand it)\n",
    "    Select Browse\n",
    "    Browse to and select the lab#.ppk file that you downloaded\n",
    "    Select Open to select it\n",
    "    Select Open again.\n",
    "\n",
    "13. Select Yes, to trust and connect to the host.\n",
    "\n",
    "14. When prompted login as, enter: ec2-user\n",
    "    This will connect you to the EC2 instance.\n",
    "\n",
    "15. Windows Users: Select here to skip ahead to the next task."
   ]
  },
  {
   "cell_type": "markdown",
   "metadata": {},
   "source": [
    "## macOS  and Linux  Users\n",
    "These instructions are specifically for Mac/Linux users. If you are a Windows user, skip ahead to the next task.\n",
    "\n",
    "16. Select the Details drop-down menu above these instructions you are currently reading, and then select Show. A Credentials window will be presented.\n",
    "\n",
    "17. Select the Download PEM button and save the labsuser.pem file.\n",
    "\n",
    "18. Make a note of the PublicIP address.\n",
    "\n",
    "19. Then exit the Details panel by selecting the X.\n",
    "\n",
    "20. Open a terminal window, and change directory cd to the directory where the labsuser.pem file was downloaded. For example, if the labuser.pem file was saved to your Downloads directory, run this command:\n",
    "\n",
    "    cd ~/Downloads\n",
    "\n",
    "21. Change the permissions on the key to be read-only, by running this command:\n",
    "\n",
    "    chmod 400 labsuser.pem\n",
    "\n",
    "22. Run the below command (replace <public-ip> with the PublicIP address you copied earlier).\n",
    "Alternatively, return to the EC2 Console and select Instances. Check the box next to the instance you want to connect to and in the Description tab copy the IPv4 Public IP value.:\n",
    "\n",
    "    ssh -i labsuser.pem ec2-user@<public-ip>\n",
    "    \n",
    "23. Type yes when prompted to allow the first connection to this remote SSH server.\n",
    "Because you are using a key pair for authentication, you will not be prompted for a password."
   ]
  },
  {
   "cell_type": "markdown",
   "metadata": {},
   "source": [
    "# Task 2: Exercise - Explore the Linux man pages\n",
    "In this exercise, you use a bash terminal to view the Linux standard help system. This system is generally referred to as the manual pages (or man pages).\n",
    "\n",
    "24. To open the manual pages for the man program, enter the following command in the PuTTY terminal window, and press Enter:\n",
    "\n",
    "    man man\n",
    "\n",
    "The terminal window at the command prompt, displays the result of the man man command. \n",
    "\n",
    "25. To identify the major sections of the man pages, look for the headers in the terminal (as the following figure shows).\n",
    "\n",
    "    Note: You can move in the man pages by pressing the up and down arrow keys.\n",
    "\n",
    "26. The following are a few important man page headers. (This list is not all inclusive.):\n",
    "\n",
    "    NAME\n",
    "    SYNOPSIS\n",
    "    DESCRIPTION\n",
    "    OVERVIEW\n",
    "    EXAMPLES\n",
    "    FILES\n",
    "    OPTIONS\n",
    "    SEE ALSO\n",
    "        The terminal window displaying the man page utilities or man page.\n",
    "\n",
    "27. Take note of the DESCRIPTION header, particularly the section numbers.\n",
    "\n",
    "    The DESCRIPTION header provides an overview of a command.\n",
    "\n",
    "28. To exit the man pages, enter q"
   ]
  },
  {
   "cell_type": "markdown",
   "metadata": {},
   "source": []
  }
 ],
 "metadata": {
  "language_info": {
   "name": "python"
  }
 },
 "nbformat": 4,
 "nbformat_minor": 2
}
